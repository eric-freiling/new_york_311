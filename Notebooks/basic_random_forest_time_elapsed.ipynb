{
 "cells": [
  {
   "cell_type": "code",
   "execution_count": 1,
   "metadata": {},
   "outputs": [
    {
     "name": "stdout",
     "output_type": "stream",
     "text": [
      "Populating the interactive namespace from numpy and matplotlib\n"
     ]
    }
   ],
   "source": [
    "%pylab nbagg"
   ]
  },
  {
   "cell_type": "code",
   "execution_count": 80,
   "metadata": {},
   "outputs": [],
   "source": [
    "from pathlib import Path\n",
    "from os import listdir\n",
    "import pandas as pd\n",
    "from datetime import datetime, timedelta\n",
    "from importlib import reload\n",
    "import utils\n",
    "import pickle\n",
    "from sklearn.model_selection import train_test_split, RandomizedSearchCV\n",
    "from sklearn.ensemble import RandomForestRegressor\n",
    "from sklearn.preprocessing import LabelEncoder\n",
    "from scipy.stats import mode"
   ]
  },
  {
   "cell_type": "code",
   "execution_count": 81,
   "metadata": {},
   "outputs": [],
   "source": [
    "from fastai.tabular import *"
   ]
  },
  {
   "cell_type": "code",
   "execution_count": 82,
   "metadata": {},
   "outputs": [
    {
     "data": {
      "text/plain": [
       "<module 'utils' from 'C:\\\\Users\\\\efreiling\\\\Desktop\\\\new_york_311\\\\Notebooks\\\\utils.py'>"
      ]
     },
     "execution_count": 82,
     "metadata": {},
     "output_type": "execute_result"
    }
   ],
   "source": [
    "reload(utils)"
   ]
  },
  {
   "cell_type": "markdown",
   "metadata": {},
   "source": [
    "# Load the data\n",
    "- We are only dealing with 10% of the data for memory and time purposes"
   ]
  },
  {
   "cell_type": "code",
   "execution_count": 4,
   "metadata": {},
   "outputs": [],
   "source": [
    "data_folder = Path('../../data/new_york_311')\n",
    "data_path = data_folder / 'data_311.csv'"
   ]
  },
  {
   "cell_type": "code",
   "execution_count": 5,
   "metadata": {},
   "outputs": [
    {
     "name": "stderr",
     "output_type": "stream",
     "text": [
      "C:\\Users\\efreiling\\AppData\\Local\\Continuum\\anaconda3\\lib\\site-packages\\IPython\\core\\interactiveshell.py:3058: DtypeWarning: Columns (31,32) have mixed types. Specify dtype option on import or set low_memory=False.\n",
      "  interactivity=interactivity, compiler=compiler, result=result)\n"
     ]
    }
   ],
   "source": [
    "orig_data = pd.read_csv(data_path)"
   ]
  },
  {
   "cell_type": "markdown",
   "metadata": {},
   "source": [
    "# Data Processing"
   ]
  },
  {
   "cell_type": "markdown",
   "metadata": {},
   "source": [
    "### Drop Certain Columns"
   ]
  },
  {
   "cell_type": "markdown",
   "metadata": {},
   "source": [
    "One of the main columns that would be useful is resolution description. Depending on the scenario or application this could be considered to have leakage. However, if we were to include it in the features, we can try several approaches:\n",
    "- Drop stop words\n",
    "- Convert words to vectors using word2vec, take the average of the vectors\n",
    "- Sklearn HashingVectorizer\n",
    "- Use Tf-Idf to find important words, use word2vec on top N words"
   ]
  },
  {
   "cell_type": "code",
   "execution_count": 6,
   "metadata": {},
   "outputs": [],
   "source": [
    "drop_cols = [\n",
    "    'unique_key',                     # If interested in finding hidden leakage, investigate this column\n",
    "    'agency_name',                    # Redundant to agancy\n",
    "    'descriptor',                     # This gives away the complaint type, leakage\n",
    "    'incident_address',               # Didnt want street numbers\n",
    "    'bbl',                            # We already have enough goelocaions\n",
    "    'location',                       # Redundant to Lat and Lng\n",
    "    'resolution_action_updated_date', # caused errors\n",
    "    'resolution_description'          # Probably very useful but not enough time to use and maybe leakage\n",
    "]\n"
   ]
  },
  {
   "cell_type": "code",
   "execution_count": 102,
   "metadata": {},
   "outputs": [],
   "source": [
    "df = utils.drop_useless_cols(orig_data, drop_cols)       "
   ]
  },
  {
   "cell_type": "markdown",
   "metadata": {},
   "source": [
    "### Filter Rows\n",
    "- Only use rows that contain the 130 complaint types\n",
    "- Filter rows that are all NaN"
   ]
  },
  {
   "cell_type": "code",
   "execution_count": 103,
   "metadata": {},
   "outputs": [],
   "source": [
    "df = utils.filter_rows(df)"
   ]
  },
  {
   "cell_type": "markdown",
   "metadata": {},
   "source": [
    "### Define Continuous, Categorical, Date Columns"
   ]
  },
  {
   "cell_type": "markdown",
   "metadata": {},
   "source": [
    "# Data Product "
   ]
  },
  {
   "cell_type": "markdown",
   "metadata": {},
   "source": [
    "Instead of building a model on the complaint type, I think it would be interesting to build a model on predicting the time elapsed between date created and closed date. I think this would be more product focused. Given a complaint, a user/manager can use the model to determine if it is going to take a long time to close. Maybe resources could be better allocated for quicler resolutions."
   ]
  },
  {
   "cell_type": "markdown",
   "metadata": {},
   "source": [
    "### Complaint type is a Cat Col"
   ]
  },
  {
   "cell_type": "code",
   "execution_count": 104,
   "metadata": {},
   "outputs": [],
   "source": [
    "cont_cols = [\n",
    "    'x_coordinate_state_plane',\n",
    "    'y_coordinate_state_plane',\n",
    "    'latitude',\n",
    "    'longitude'\n",
    "]\n",
    "cat_cols = [\n",
    "    'complaint_type',\n",
    "    'agency',\n",
    "    'borough',\n",
    "    'location_type',\n",
    "    'incident_zip',\n",
    "    'street_name',\n",
    "    'cross_street_1',\n",
    "    'cross_street_2',\n",
    "    'intersection_street_1',\n",
    "    'intersection_street_2',\n",
    "    'address_type',\n",
    "    'city',\n",
    "    'landmark',\n",
    "    'facility_type',\n",
    "    'status',\n",
    "    'community_board',\n",
    "    'open_data_channel_type',\n",
    "    'park_facility_name',\n",
    "    'park_borough',\n",
    "    'vehicle_type',\n",
    "    'taxi_company_borough',\n",
    "    'taxi_pick_up_location',\n",
    "    'bridge_highway_name',\n",
    "    'bridge_highway_direction',\n",
    "    'road_ramp',\n",
    "    'bridge_highway_segment',\n",
    "]\n",
    "date_cols = [\n",
    "    'created_date',\n",
    "    'closed_date',\n",
    "    'due_date',\n",
    "]\n"
   ]
  },
  {
   "cell_type": "markdown",
   "metadata": {},
   "source": [
    "### Process All Date Columns Except Closed Date\n",
    "- Add columns for time elapsed between dates\n",
    "- Add features for day of week, end of year, etc"
   ]
  },
  {
   "cell_type": "code",
   "execution_count": 105,
   "metadata": {},
   "outputs": [],
   "source": [
    "# Convert all date cols to datetimes\n",
    "for dc in date_cols:\n",
    "    df[dc] = pd.to_datetime(df[dc])\n",
    "\n",
    "# add columns for time elapsed between dates\n",
    "df['time_to_close'] = (df['closed_date']-df['created_date']).astype('timedelta64[h]')\n",
    "df['due_len'] = (df['due_date']-df['created_date']).astype('timedelta64[h]')\n",
    "# df['time_over'] = (df['due_date']-df['closed_date']).astype('timedelta64[h]')\n",
    "cont_cols += ['time_to_close', 'due_len']\n",
    "df, cont_cols = utils.create_date_lengths(df, cont_cols)\n",
    "date_cols.remove('closed_date')\n",
    "# Add date boolean features, day of week, end of year, etc\n",
    "for d in date_cols:\n",
    "    add_datepart(df, d, drop=True)\n",
    "\n",
    "# Keep track of created categorical columns\n",
    "cat_cols += list(set(df.columns) - set(cont_cols) - set(cat_cols) - set(dep_var))"
   ]
  },
  {
   "cell_type": "code",
   "execution_count": 106,
   "metadata": {},
   "outputs": [],
   "source": [
    "cat_cols.remove('closed_date')\n",
    "df = df.drop(columns=['closed_date'])\n",
    "dep_var = ['time_to_close']"
   ]
  },
  {
   "cell_type": "markdown",
   "metadata": {},
   "source": [
    "### Process Continuous Columns\n",
    "- Fill in missing values with the median of the column, then add another feature that idicates which rows had missing values\n",
    "- Normalize Z-score"
   ]
  },
  {
   "cell_type": "code",
   "execution_count": 107,
   "metadata": {},
   "outputs": [],
   "source": [
    "df, cont_cols, cat_cols = utils.process_cont_cols(df, cont_cols, cat_cols)"
   ]
  },
  {
   "cell_type": "markdown",
   "metadata": {},
   "source": [
    "### Process Categorical Columns\n",
    "- Ordinal Encoding for columns with number of classes greater than 20\n",
    "- One hot encoding for columns with number of classes 20 or less"
   ]
  },
  {
   "cell_type": "code",
   "execution_count": 108,
   "metadata": {},
   "outputs": [],
   "source": [
    "df, cat_cols, label_encoders = utils.process_cat_cols(df, cat_cols)"
   ]
  },
  {
   "cell_type": "markdown",
   "metadata": {},
   "source": [
    "### Split Dataframe into Features and Target"
   ]
  },
  {
   "cell_type": "code",
   "execution_count": 109,
   "metadata": {},
   "outputs": [],
   "source": [
    "y = df[dep_var[0]]\n",
    "x = df.drop(columns=dep_var)"
   ]
  },
  {
   "cell_type": "markdown",
   "metadata": {},
   "source": [
    "# Train a Random Forest Regressor and Compare to Naive Solution"
   ]
  },
  {
   "cell_type": "code",
   "execution_count": 133,
   "metadata": {},
   "outputs": [],
   "source": [
    "seed = 45\n",
    "train_x, test_x, train_y, test_y = train_test_split(x, y, test_size=0.2, random_state=seed)\n",
    "clf = RandomForestRegressor(max_depth=4, random_state=seed)"
   ]
  },
  {
   "cell_type": "code",
   "execution_count": 111,
   "metadata": {},
   "outputs": [
    {
     "name": "stderr",
     "output_type": "stream",
     "text": [
      "C:\\Users\\efreiling\\AppData\\Local\\Continuum\\anaconda3\\lib\\site-packages\\sklearn\\ensemble\\forest.py:245: FutureWarning: The default value of n_estimators will change from 10 in version 0.20 to 100 in 0.22.\n",
      "  \"10 in version 0.20 to 100 in 0.22.\", FutureWarning)\n"
     ]
    },
    {
     "data": {
      "text/plain": [
       "RandomForestRegressor(bootstrap=True, criterion='mse', max_depth=4,\n",
       "                      max_features='auto', max_leaf_nodes=None,\n",
       "                      min_impurity_decrease=0.0, min_impurity_split=None,\n",
       "                      min_samples_leaf=1, min_samples_split=2,\n",
       "                      min_weight_fraction_leaf=0.0, n_estimators=10,\n",
       "                      n_jobs=None, oob_score=False, random_state=45, verbose=0,\n",
       "                      warm_start=False)"
      ]
     },
     "execution_count": 111,
     "metadata": {},
     "output_type": "execute_result"
    }
   ],
   "source": [
    "clf.fit(train_x, train_y)"
   ]
  },
  {
   "cell_type": "code",
   "execution_count": 120,
   "metadata": {},
   "outputs": [
    {
     "name": "stdout",
     "output_type": "stream",
     "text": [
      "Accuracy\n",
      "Random Forest: 0.022147717147440557, Naive: 0.03878168471282954\n"
     ]
    }
   ],
   "source": [
    "preds = clf.predict(test_x)\n",
    "rf_error = np.mean(np.abs(preds - np.array(test_y)))\n",
    "naive_error = np.mean(np.abs(np.array(test_y)))\n",
    "print('Accuracy')\n",
    "print(f'Random Forest: {rf_error}, Naive: {naive_error}')"
   ]
  },
  {
   "cell_type": "markdown",
   "metadata": {},
   "source": [
    "### Look at Feature Importance"
   ]
  },
  {
   "cell_type": "code",
   "execution_count": 114,
   "metadata": {},
   "outputs": [],
   "source": [
    "importances = clf.feature_importances_"
   ]
  },
  {
   "cell_type": "code",
   "execution_count": 115,
   "metadata": {},
   "outputs": [],
   "source": [
    "indices = np.argsort(importances)[::-1]"
   ]
  },
  {
   "cell_type": "code",
   "execution_count": 116,
   "metadata": {},
   "outputs": [
    {
     "data": {
      "text/plain": [
       "[('time_over', 0.999262727257816),\n",
       " ('agency=DOB', 0.0004515258965276997),\n",
       " ('created_Elapsed', 0.00017768196978527315),\n",
       " ('due_Elapsed', 4.7922780976852544e-05),\n",
       " ('created_Year=2017', 2.4968938565360684e-05),\n",
       " ('due_len', 2.12454244010075e-05),\n",
       " ('due_Year=2017.0', 1.3913108836627094e-05),\n",
       " ('created_Dayofyear', 4.223636638326871e-09),\n",
       " ('due_Year=2018.0', 3.1382220175657653e-09),\n",
       " ('due_Week', 2.9819429626778257e-09),\n",
       " ('created_Month=7', 2.863481000812537e-09),\n",
       " ('created_Day', 5.416056945449304e-10),\n",
       " ('created_Month=4', 3.551070150067043e-10),\n",
       " ('created_Week', 3.373685296890105e-10),\n",
       " ('created_Month=5', 1.781644959481562e-10),\n",
       " ('park_borough=QUEENS', 3.562818857003088e-12),\n",
       " ('status=Started', 0.0),\n",
       " ('status=Unassigned', 0.0),\n",
       " ('time_over_missing=1.0', 0.0),\n",
       " ('status=Pending', 0.0),\n",
       " ('status=missing', 0.0),\n",
       " ('status=Open', 0.0),\n",
       " ('status=In Progress', 0.0),\n",
       " ('status=Draft', 0.0),\n",
       " ('status=Closed - Testing', 0.0),\n",
       " ('status=Closed', 0.0),\n",
       " ('status=Assigned', 0.0),\n",
       " ('facility_type=missing', 0.0),\n",
       " ('facility_type=School', 0.0),\n",
       " ('facility_type=Precinct', 0.0),\n",
       " ('facility_type=DSNY Garage', 0.0),\n",
       " ('address_type=missing', 0.0),\n",
       " ('address_type=PLACENAME', 0.0),\n",
       " ('address_type=LATLONG', 0.0),\n",
       " ('address_type=INTERSECTION', 0.0),\n",
       " ('status=Unspecified', 0.0),\n",
       " ('open_data_channel_type=PHONE', 0.0),\n",
       " ('open_data_channel_type=BRONX', 0.0),\n",
       " ('open_data_channel_type=MOBILE', 0.0),\n",
       " ('taxi_company_borough=Manhattan', 0.0),\n",
       " ('taxi_company_borough=MANHATTAN', 0.0),\n",
       " ('taxi_company_borough=Brooklyn', 0.0),\n",
       " ('taxi_company_borough=Bronx', 0.0),\n",
       " ('taxi_company_borough=BROOKLYN', 0.0),\n",
       " ('taxi_company_borough=BRONX', 0.0),\n",
       " ('vehicle_type=missing', 0.0),\n",
       " ('vehicle_type=Green Taxi', 0.0),\n",
       " ('vehicle_type=Commuter Van', 0.0),\n",
       " ('vehicle_type=Car Service', 0.0),\n",
       " ('vehicle_type=Ambulette / Paratransit', 0.0),\n",
       " ('park_borough=missing', 0.0),\n",
       " ('park_borough=Unspecified', 0.0),\n",
       " ('park_borough=STATEN ISLAND', 0.0),\n",
       " ('park_borough=MANHATTAN', 0.0),\n",
       " ('park_borough=BROOKLYN', 0.0),\n",
       " ('park_borough=BRONX', 0.0),\n",
       " ('open_data_channel_type=UNKNOWN', 0.0),\n",
       " ('address_type=ADDRESS', 0.0),\n",
       " ('open_data_channel_type=OTHER', 0.0),\n",
       " ('open_data_channel_type=ONLINE', 0.0),\n",
       " ('address_type=BLOCKFACE', 0.0),\n",
       " ('borough=BRONX', 0.0),\n",
       " ('borough=missing', 0.0),\n",
       " ('x_coordinate_state_plane', 0.0),\n",
       " ('due_Day', 0.0),\n",
       " ('longitude', 0.0),\n",
       " ('latitude', 0.0),\n",
       " ('bridge_highway_segment', 0.0),\n",
       " ('bridge_highway_direction', 0.0),\n",
       " ('bridge_highway_name', 0.0),\n",
       " ('taxi_pick_up_location', 0.0),\n",
       " ('park_facility_name', 0.0),\n",
       " ('y_coordinate_state_plane', 0.0),\n",
       " ('community_board', 0.0),\n",
       " ('borough=Unspecified', 0.0),\n",
       " ('landmark', 0.0),\n",
       " ('city', 0.0),\n",
       " ('intersection_street_2', 0.0),\n",
       " ('intersection_street_1', 0.0),\n",
       " ('cross_street_2', 0.0),\n",
       " ('cross_street_1', 0.0),\n",
       " ('street_name', 0.0),\n",
       " ('incident_zip', 0.0),\n",
       " ('location_type', 0.0),\n",
       " ('due_Dayofyear', 0.0),\n",
       " ('agency=3-1-1', 0.0),\n",
       " ('agency=DCA', 0.0),\n",
       " ('agency=DEP', 0.0),\n",
       " ('borough=STATEN ISLAND', 0.0),\n",
       " ('borough=QUEENS', 0.0),\n",
       " ('borough=MANHATTAN', 0.0),\n",
       " ('borough=BROOKLYN', 0.0),\n",
       " ('taxi_company_borough=Queens', 0.0),\n",
       " ('agency=TLC', 0.0),\n",
       " ('agency=NYPD', 0.0),\n",
       " ('agency=NYCEM', 0.0),\n",
       " ('agency=HRA', 0.0),\n",
       " ('agency=HPD', 0.0),\n",
       " ('agency=EDC', 0.0),\n",
       " ('agency=DSNY', 0.0),\n",
       " ('agency=DPR', 0.0),\n",
       " ('agency=DOT', 0.0),\n",
       " ('agency=DOHMH', 0.0),\n",
       " ('agency=DOF', 0.0),\n",
       " ('agency=DOE', 0.0),\n",
       " ('agency=DHS', 0.0),\n",
       " ('agency=DFTA', 0.0),\n",
       " ('taxi_company_borough=QUEENS', 0.0),\n",
       " ('road_ramp=Ramp', 0.0),\n",
       " ('taxi_company_borough=STATEN ISLAND', 0.0),\n",
       " ('created_Month=6', 0.0),\n",
       " ('due_Year=2015.0', 0.0),\n",
       " ('due_Year=2014.0', 0.0),\n",
       " ('due_Year=2013.0', 0.0),\n",
       " ('due_Year=2012.0', 0.0),\n",
       " ('due_Year=2011.0', 0.0),\n",
       " ('due_Year=2010.0', 0.0),\n",
       " ('due_Year=2008.0', 0.0),\n",
       " ('due_Year=1900.0', 0.0),\n",
       " ('created_Month=9', 0.0),\n",
       " ('created_Month=8', 0.0),\n",
       " ('created_Month=3', 0.0),\n",
       " ('due_Year=2019.0', 0.0),\n",
       " ('created_Month=2', 0.0),\n",
       " ('created_Month=12', 0.0),\n",
       " ('created_Month=11', 0.0),\n",
       " ('created_Month=10', 0.0),\n",
       " ('created_Month=1', 0.0),\n",
       " ('due_Is_year_end=true', 0.0),\n",
       " ('due_Is_year_end=false', 0.0),\n",
       " ('due_Is_month_start=true', 0.0),\n",
       " ('due_Is_month_start=false', 0.0),\n",
       " ('created_Is_year_end=true', 0.0),\n",
       " ('due_Year=2016.0', 0.0),\n",
       " ('due_Year=2020.0', 0.0),\n",
       " ('taxi_company_borough=Staten Island', 0.0),\n",
       " ('latitude_missing=1.0', 0.0),\n",
       " ('time_to_close_missing=1.0', 0.0),\n",
       " ('time_to_close_missing=0.0', 0.0),\n",
       " ('x_coordinate_state_plane_missing=1.0', 0.0),\n",
       " ('x_coordinate_state_plane_missing=0.0', 0.0),\n",
       " ('longitude_missing=1.0', 0.0),\n",
       " ('longitude_missing=0.0', 0.0),\n",
       " ('y_coordinate_state_plane_missing=1.0', 0.0),\n",
       " ('y_coordinate_state_plane_missing=0.0', 0.0),\n",
       " ('due_len_missing=1.0', 0.0),\n",
       " ('due_len_missing=0.0', 0.0),\n",
       " ('latitude_missing=0.0', 0.0),\n",
       " ('due_Year=2021.0', 0.0),\n",
       " ('created_Is_month_end=true', 0.0),\n",
       " ('created_Is_month_end=false', 0.0),\n",
       " ('created_Dayofweek=6', 0.0),\n",
       " ('created_Dayofweek=5', 0.0),\n",
       " ('created_Dayofweek=4', 0.0),\n",
       " ('created_Dayofweek=3', 0.0),\n",
       " ('created_Dayofweek=2', 0.0),\n",
       " ('created_Dayofweek=1', 0.0),\n",
       " ('created_Dayofweek=0', 0.0),\n",
       " ('due_Year=missing', 0.0),\n",
       " ('created_Is_year_end=false', 0.0),\n",
       " ('due_Dayofweek=missing', 0.0),\n",
       " ('due_Dayofweek=6.0', 0.0),\n",
       " ('due_Month=5.0', 0.0),\n",
       " ('due_Is_year_start=false', 0.0),\n",
       " ('due_Is_month_end=true', 0.0),\n",
       " ('due_Is_month_end=false', 0.0),\n",
       " ('created_Is_quarter_start=true', 0.0),\n",
       " ('created_Is_quarter_start=false', 0.0),\n",
       " ('due_Month=missing', 0.0),\n",
       " ('due_Month=9.0', 0.0),\n",
       " ('due_Month=8.0', 0.0),\n",
       " ('due_Month=7.0', 0.0),\n",
       " ('due_Month=6.0', 0.0),\n",
       " ('due_Month=4.0', 0.0),\n",
       " ('due_Dayofweek=5.0', 0.0),\n",
       " ('due_Month=3.0', 0.0),\n",
       " ('due_Month=2.0', 0.0),\n",
       " ('due_Month=12.0', 0.0),\n",
       " ('due_Month=11.0', 0.0),\n",
       " ('due_Month=10.0', 0.0),\n",
       " ('due_Month=1.0', 0.0),\n",
       " ('road_ramp=missing', 0.0),\n",
       " ('road_ramp=Roadway', 0.0),\n",
       " ('time_over_missing=0.0', 0.0),\n",
       " ('taxi_company_borough=missing', 0.0),\n",
       " ('due_Is_year_start=true', 0.0),\n",
       " ('created_Is_month_start=false', 0.0),\n",
       " ('created_Is_month_start=true', 0.0),\n",
       " ('created_Is_quarter_end=false', 0.0),\n",
       " ('due_Dayofweek=4.0', 0.0),\n",
       " ('due_Dayofweek=3.0', 0.0),\n",
       " ('due_Dayofweek=2.0', 0.0),\n",
       " ('due_Dayofweek=1.0', 0.0),\n",
       " ('due_Dayofweek=0.0', 0.0),\n",
       " ('created_Is_year_start=true', 0.0),\n",
       " ('created_Is_year_start=false', 0.0),\n",
       " ('due_Is_quarter_end=true', 0.0),\n",
       " ('due_Is_quarter_end=false', 0.0),\n",
       " ('due_Is_quarter_start=true', 0.0),\n",
       " ('due_Is_quarter_start=false', 0.0),\n",
       " ('created_Year=2019', 0.0),\n",
       " ('created_Year=2018', 0.0),\n",
       " ('created_Year=2016', 0.0),\n",
       " ('created_Year=2015', 0.0),\n",
       " ('created_Year=2014', 0.0),\n",
       " ('created_Year=2013', 0.0),\n",
       " ('created_Year=2012', 0.0),\n",
       " ('created_Year=2011', 0.0),\n",
       " ('created_Year=2010', 0.0),\n",
       " ('created_Is_quarter_end=true', 0.0),\n",
       " ('complaint_type', 0.0)]"
      ]
     },
     "execution_count": 116,
     "metadata": {},
     "output_type": "execute_result"
    }
   ],
   "source": [
    "list(zip(train_x.columns[indices], importances[indices]))"
   ]
  },
  {
   "cell_type": "markdown",
   "metadata": {},
   "source": [
    "### Drop Features that aren't Important"
   ]
  },
  {
   "cell_type": "code",
   "execution_count": 117,
   "metadata": {},
   "outputs": [],
   "source": [
    "drop_cols_loc = np.where(importances < 1e-12)[0]\n",
    "drop_cols = list(np.array(train_x.columns)[drop_cols_loc])\n",
    "train_x = train_x.drop(columns=drop_cols)\n",
    "test_x = test_x.drop(columns=drop_cols)"
   ]
  },
  {
   "cell_type": "code",
   "execution_count": 118,
   "metadata": {},
   "outputs": [
    {
     "data": {
      "text/plain": [
       "(1583727, 16)"
      ]
     },
     "execution_count": 118,
     "metadata": {},
     "output_type": "execute_result"
    }
   ],
   "source": [
    "train_x.shape"
   ]
  },
  {
   "cell_type": "code",
   "execution_count": 119,
   "metadata": {},
   "outputs": [
    {
     "data": {
      "text/plain": [
       "RandomForestRegressor(bootstrap=True, criterion='mse', max_depth=4,\n",
       "                      max_features='auto', max_leaf_nodes=None,\n",
       "                      min_impurity_decrease=0.0, min_impurity_split=None,\n",
       "                      min_samples_leaf=1, min_samples_split=2,\n",
       "                      min_weight_fraction_leaf=0.0, n_estimators=10,\n",
       "                      n_jobs=None, oob_score=False, random_state=45, verbose=0,\n",
       "                      warm_start=False)"
      ]
     },
     "execution_count": 119,
     "metadata": {},
     "output_type": "execute_result"
    }
   ],
   "source": [
    "clf.fit(train_x, train_y)"
   ]
  },
  {
   "cell_type": "code",
   "execution_count": 121,
   "metadata": {},
   "outputs": [
    {
     "name": "stdout",
     "output_type": "stream",
     "text": [
      "Accuracy\n",
      "Random Forest: 0.022147717147441452, Naive: 0.03878168471282954\n"
     ]
    }
   ],
   "source": [
    "preds = clf.predict(test_x)\n",
    "rf_error = np.mean(np.abs(preds - np.array(test_y)))\n",
    "naive_error = np.mean(np.abs(np.array(test_y)))\n",
    "print('Accuracy')\n",
    "print(f'Random Forest: {rf_error}, Naive: {naive_error}')"
   ]
  },
  {
   "cell_type": "markdown",
   "metadata": {},
   "source": [
    "# Hyperparameter Tuning"
   ]
  },
  {
   "cell_type": "code",
   "execution_count": 122,
   "metadata": {},
   "outputs": [],
   "source": [
    "from sklearn.model_selection import cross_val_score\n",
    "from sklearn import metrics"
   ]
  },
  {
   "cell_type": "markdown",
   "metadata": {},
   "source": [
    "### Down Sample Data for Speed Up"
   ]
  },
  {
   "cell_type": "code",
   "execution_count": 123,
   "metadata": {},
   "outputs": [],
   "source": [
    "train_x['target'] = train_y\n",
    "x_train = train_x.sample(frac=0.1, replace=False)\n",
    "y_train = x_train['target']\n",
    "x_train = x_train.drop(columns=['target'])"
   ]
  },
  {
   "cell_type": "markdown",
   "metadata": {},
   "source": [
    "### Vary Number of Trees"
   ]
  },
  {
   "cell_type": "code",
   "execution_count": 130,
   "metadata": {},
   "outputs": [
    {
     "name": "stdout",
     "output_type": "stream",
     "text": [
      "Num Trees: 50\n",
      "[-0.021753 -0.022265 -0.021911]\n",
      "Num Trees: 100\n",
      "[-0.021728 -0.022243 -0.021877]\n",
      "Num Trees: 150\n",
      "[-0.021719 -0.022225 -0.021918]\n",
      "Num Trees: 200\n",
      "[-0.0217   -0.022264 -0.021897]\n",
      "Best num trees:  100\n"
     ]
    }
   ],
   "source": [
    "n_trees = [50, 100, 150, 200]\n",
    "depth = [4, 8, 12]\n",
    "tree_scores = []\n",
    "for t in n_trees:\n",
    "    print(f'Num Trees: {t}')\n",
    "    rf = RandomForestRegressor(max_depth=depth[0], n_estimators=t)\n",
    "    cross_val = cross_val_score(rf, x_train, y_train, cv=3, scoring='neg_mean_absolute_error')\n",
    "    print(cross_val)\n",
    "    tree_scores.append(cross_val)\n",
    "tree_scores = np.array(tree_scores)\n",
    "tree_avg = np.mean(tree_scores, axis=1)\n",
    "idx = np.argmax(tree_avg)\n",
    "num_trees = n_trees[idx]\n",
    "print(\"Best num trees: \", num_trees)\n"
   ]
  },
  {
   "cell_type": "markdown",
   "metadata": {},
   "source": [
    "### Vary Tree Depth"
   ]
  },
  {
   "cell_type": "code",
   "execution_count": 132,
   "metadata": {},
   "outputs": [
    {
     "name": "stdout",
     "output_type": "stream",
     "text": [
      "Depth: 4\n",
      "[-0.021713 -0.022313 -0.021914]\n",
      "Depth: 8\n",
      "[-0.017878 -0.018449 -0.017788]\n",
      "Depth: 12\n",
      "[-0.016409 -0.016786 -0.016294]\n",
      "Best depth:  12\n"
     ]
    }
   ],
   "source": [
    "depth_scores = []\n",
    "for d in depth:\n",
    "    print(f\"Depth: {d}\")\n",
    "    rf = RandomForestRegressor(max_depth=d, n_estimators=50)\n",
    "    cross_val = cross_val_score(rf, x_train, y_train, cv=3, scoring='neg_mean_absolute_error')\n",
    "    print(cross_val)\n",
    "    depth_scores.append(cross_val)\n",
    "depth_scores = np.array(depth_scores)\n",
    "np.save(\"depth_scores\", depth_scores)\n",
    "depth_avg = np.mean(depth_scores, axis=1)\n",
    "idx = np.argmax(depth_avg)\n",
    "print(\"Best depth: \", depth[idx])"
   ]
  },
  {
   "cell_type": "markdown",
   "metadata": {},
   "source": [
    "# Dont drop other columns"
   ]
  },
  {
   "cell_type": "code",
   "execution_count": 134,
   "metadata": {},
   "outputs": [],
   "source": [
    "seed = 45\n",
    "train_x, test_x, train_y, test_y = train_test_split(x, y, test_size=0.2, random_state=seed)"
   ]
  },
  {
   "cell_type": "code",
   "execution_count": 139,
   "metadata": {},
   "outputs": [
    {
     "name": "stderr",
     "output_type": "stream",
     "text": [
      "C:\\Users\\efreiling\\AppData\\Local\\Continuum\\anaconda3\\lib\\site-packages\\ipykernel_launcher.py:1: SettingWithCopyWarning: \n",
      "A value is trying to be set on a copy of a slice from a DataFrame.\n",
      "Try using .loc[row_indexer,col_indexer] = value instead\n",
      "\n",
      "See the caveats in the documentation: http://pandas.pydata.org/pandas-docs/stable/user_guide/indexing.html#returning-a-view-versus-a-copy\n",
      "  \"\"\"Entry point for launching an IPython kernel.\n"
     ]
    }
   ],
   "source": [
    "train_x['target'] = train_y\n",
    "x_train = train_x.sample(frac=0.1, replace=False)\n",
    "y_train = x_train['target']\n",
    "x_train = x_train.drop(columns=['target'])"
   ]
  },
  {
   "cell_type": "code",
   "execution_count": 136,
   "metadata": {},
   "outputs": [
    {
     "name": "stdout",
     "output_type": "stream",
     "text": [
      "Depth: 4\n",
      "[-0.022304 -0.022537 -0.02185 ]\n",
      "Depth: 8\n",
      "[-0.017478 -0.017565 -0.017211]\n",
      "Depth: 12\n",
      "[-0.015421 -0.015557 -0.015158]\n",
      "Best depth:  12\n"
     ]
    }
   ],
   "source": [
    "depth_scores = []\n",
    "for d in depth:\n",
    "    print(f\"Depth: {d}\")\n",
    "    rf = RandomForestRegressor(max_depth=d, n_estimators=50)\n",
    "    cross_val = cross_val_score(rf, x_train, y_train, cv=3, scoring='neg_mean_absolute_error')\n",
    "    print(cross_val)\n",
    "    depth_scores.append(cross_val)\n",
    "depth_scores = np.array(depth_scores)\n",
    "np.save(\"depth_scores\", depth_scores)\n",
    "depth_avg = np.mean(depth_scores, axis=1)\n",
    "idx = np.argmax(depth_avg)\n",
    "print(\"Best depth: \", depth[idx])"
   ]
  },
  {
   "cell_type": "code",
   "execution_count": 140,
   "metadata": {},
   "outputs": [
    {
     "data": {
      "text/plain": [
       "RandomForestRegressor(bootstrap=True, criterion='mse', max_depth=12,\n",
       "                      max_features='auto', max_leaf_nodes=None,\n",
       "                      min_impurity_decrease=0.0, min_impurity_split=None,\n",
       "                      min_samples_leaf=1, min_samples_split=2,\n",
       "                      min_weight_fraction_leaf=0.0, n_estimators=50,\n",
       "                      n_jobs=None, oob_score=False, random_state=None,\n",
       "                      verbose=0, warm_start=False)"
      ]
     },
     "execution_count": 140,
     "metadata": {},
     "output_type": "execute_result"
    }
   ],
   "source": [
    "rf = RandomForestRegressor(max_depth=12, n_estimators=50)\n",
    "rf.fit(x_train, y_train)"
   ]
  },
  {
   "cell_type": "code",
   "execution_count": 141,
   "metadata": {},
   "outputs": [
    {
     "data": {
      "text/plain": [
       "[('time_over', 0.9975609891733058),\n",
       " ('due_len', 0.0004319570794085206),\n",
       " ('agency=DOB', 0.0003555415613521718),\n",
       " ('created_Elapsed', 0.0003318855595745658),\n",
       " ('complaint_type', 0.00016321353491971047),\n",
       " ('created_Day', 8.896632661640047e-05),\n",
       " ('street_name', 8.842144145503708e-05),\n",
       " ('longitude', 7.943391257544284e-05),\n",
       " ('y_coordinate_state_plane', 7.067044789836401e-05),\n",
       " ('x_coordinate_state_plane', 6.548168692913363e-05),\n",
       " ('created_Dayofyear', 6.349475948380524e-05),\n",
       " ('community_board', 6.084915796843199e-05),\n",
       " ('latitude', 5.8606471998068886e-05),\n",
       " ('incident_zip', 5.606748169897259e-05),\n",
       " ('cross_street_1', 5.22899393843127e-05),\n",
       " ('created_Week', 3.500279149162649e-05),\n",
       " ('cross_street_2', 3.418263283379376e-05),\n",
       " ('facility_type=missing', 3.3467264473625715e-05),\n",
       " ('city', 3.129475922002533e-05),\n",
       " ('created_Dayofweek=6', 3.0075477801048807e-05),\n",
       " ('due_Elapsed', 2.552879421044456e-05),\n",
       " ('created_Month=10', 2.0941607122615773e-05),\n",
       " ('time_to_close_missing=0.0', 2.039865097703412e-05),\n",
       " ('created_Month=7', 1.710996900108605e-05),\n",
       " ('time_over_missing=0.0', 1.6331125933002826e-05),\n",
       " ('created_Month=6', 1.3767708185801873e-05),\n",
       " ('created_Dayofweek=1', 1.0365923433224824e-05),\n",
       " ('created_Month=11', 8.782787359200182e-06),\n",
       " ('agency=DEP', 8.657768955273396e-06),\n",
       " ('created_Year=2012', 8.534649150344437e-06),\n",
       " ('status=Closed', 8.341305701837967e-06),\n",
       " ('created_Year=2010', 8.121758410981119e-06),\n",
       " ('created_Year=2015', 7.863814213297175e-06),\n",
       " ('agency=HPD', 7.36184646373242e-06),\n",
       " ('created_Month=9', 6.5257706819800325e-06),\n",
       " ('created_Month=12', 6.0344578005644964e-06),\n",
       " ('created_Dayofweek=2', 5.726054946930209e-06),\n",
       " ('created_Year=2011', 5.560995226390548e-06),\n",
       " ('due_Week', 5.551836169493057e-06),\n",
       " ('location_type', 5.527101797163519e-06),\n",
       " ('open_data_channel_type=OTHER', 5.400889979440812e-06),\n",
       " ('created_Month=1', 5.230302201580662e-06),\n",
       " ('created_Dayofweek=3', 5.180696109126548e-06),\n",
       " ('status=Assigned', 4.898547904994413e-06),\n",
       " ('created_Dayofweek=4', 4.4173352722958535e-06),\n",
       " ('created_Month=8', 4.3523582520669205e-06),\n",
       " ('park_borough=BROOKLYN', 4.297534987345356e-06),\n",
       " ('created_Year=2014', 4.114095695644526e-06),\n",
       " ('due_Year=2010.0', 3.219189977566714e-06),\n",
       " ('created_Month=4', 3.1032268118581297e-06),\n",
       " ('created_Is_month_start=true', 3.081226146803869e-06),\n",
       " ('borough=MANHATTAN', 2.912501897347566e-06),\n",
       " ('created_Month=5', 2.8736916736884636e-06),\n",
       " ('created_Dayofweek=0', 2.5840408146403203e-06),\n",
       " ('due_Dayofyear', 2.4358302162167807e-06),\n",
       " ('borough=BROOKLYN', 2.423339679412746e-06),\n",
       " ('borough=QUEENS', 2.384636246171162e-06),\n",
       " ('due_Year=1900.0', 2.2465333858130376e-06),\n",
       " ('created_Month=3', 2.1076900207168105e-06),\n",
       " ('open_data_channel_type=UNKNOWN', 1.9456338461979417e-06),\n",
       " ('created_Year=2016', 1.8788092057098625e-06),\n",
       " ('open_data_channel_type=ONLINE', 1.336079505842754e-06),\n",
       " ('created_Is_month_end=true', 1.3004769399020964e-06),\n",
       " ('created_Month=2', 1.2222862467139486e-06),\n",
       " ('time_to_close_missing=1.0', 1.0102704239546297e-06),\n",
       " ('due_Month=1.0', 9.096059158527802e-07),\n",
       " ('created_Is_month_end=false', 8.85998977419866e-07),\n",
       " ('borough=BRONX', 8.547565353605282e-07),\n",
       " ('created_Dayofweek=5', 7.887424354513767e-07),\n",
       " ('created_Year=2013', 7.761777957987788e-07),\n",
       " ('created_Year=2017', 6.723445030368374e-07),\n",
       " ('due_len_missing=0.0', 6.721195911955806e-07),\n",
       " ('park_borough=QUEENS', 6.701876571432246e-07),\n",
       " ('created_Is_month_start=false', 5.664039482612624e-07),\n",
       " ('park_borough=BRONX', 5.334492680482833e-07),\n",
       " ('time_over_missing=1.0', 5.268811185257256e-07),\n",
       " ('intersection_street_1', 5.143355690836064e-07),\n",
       " ('agency=DPR', 4.381988213029675e-07),\n",
       " ('due_Day', 4.3528418896068027e-07),\n",
       " ('park_borough=MANHATTAN', 4.2760414235669016e-07),\n",
       " ('created_Is_quarter_start=false', 3.909052875739224e-07),\n",
       " ('due_Year=2016.0', 3.854365533897997e-07),\n",
       " ('created_Is_quarter_start=true', 3.778500097707081e-07),\n",
       " ('agency=DOT', 3.107095935029148e-07),\n",
       " ('y_coordinate_state_plane_missing=1.0', 2.628933752848946e-07),\n",
       " ('latitude_missing=0.0', 2.168587338105066e-07),\n",
       " ('due_Year=2011.0', 2.0138242676012663e-07),\n",
       " ('due_Month=8.0', 1.975910903685069e-07),\n",
       " ('park_borough=STATEN ISLAND', 1.7512283987865086e-07),\n",
       " ('borough=STATEN ISLAND', 1.7382527104504406e-07),\n",
       " ('created_Year=2018', 1.7290123524827528e-07),\n",
       " ('due_Dayofweek=3.0', 1.6476688991688612e-07),\n",
       " ('created_Is_quarter_end=true', 1.6295893872002428e-07),\n",
       " ('status=Open', 1.526144238995402e-07),\n",
       " ('agency=TLC', 1.2986203716201684e-07),\n",
       " ('due_Year=2012.0', 1.2936578517457877e-07),\n",
       " ('due_Dayofweek=6.0', 1.0228864317970231e-07),\n",
       " ('due_Year=2014.0', 9.81343868363671e-08),\n",
       " ('created_Is_quarter_end=false', 9.594255400404316e-08),\n",
       " ('y_coordinate_state_plane_missing=0.0', 9.302755341453557e-08),\n",
       " ('due_Year=2013.0', 8.916985294913347e-08),\n",
       " ('longitude_missing=0.0', 8.690626099500383e-08),\n",
       " ('due_Month=3.0', 7.95420963760574e-08),\n",
       " ('open_data_channel_type=PHONE', 7.884393366504667e-08),\n",
       " ('created_Is_year_start=true', 7.709120181147628e-08),\n",
       " ('due_Is_month_end=false', 6.582538192813596e-08),\n",
       " ('longitude_missing=1.0', 5.886811022336136e-08),\n",
       " ('latitude_missing=1.0', 5.193160980099966e-08),\n",
       " ('due_Dayofweek=5.0', 5.1705212882189315e-08),\n",
       " ('created_Is_year_start=false', 5.1570078436608066e-08),\n",
       " ('due_len_missing=1.0', 5.059451102362234e-08),\n",
       " ('due_Dayofweek=missing', 4.414300815488754e-08),\n",
       " ('created_Is_year_end=false', 4.391969141355781e-08),\n",
       " ('agency=NYPD', 4.0551283036480125e-08),\n",
       " ('facility_type=Precinct', 3.9879942662756296e-08),\n",
       " ('due_Dayofweek=1.0', 3.945376500596752e-08),\n",
       " ('due_Month=5.0', 3.6269780059469074e-08),\n",
       " ('address_type=ADDRESS', 3.447225124059184e-08),\n",
       " ('due_Month=11.0', 3.0496277780136286e-08),\n",
       " ('due_Month=4.0', 3.037069552336252e-08),\n",
       " ('address_type=missing', 2.6163326794283172e-08),\n",
       " ('due_Dayofweek=2.0', 2.4990752454878817e-08),\n",
       " ('created_Year=2019', 2.2456806229643885e-08),\n",
       " ('due_Is_month_start=false', 2.1373336667739346e-08),\n",
       " ('due_Month=10.0', 2.1363980673319515e-08),\n",
       " ('status=Pending', 2.083471396571118e-08),\n",
       " ('due_Month=missing', 2.0473445554633955e-08),\n",
       " ('due_Month=2.0', 2.0120243178880212e-08),\n",
       " ('due_Year=missing', 1.958198251231801e-08),\n",
       " ('due_Month=6.0', 1.8612383090619126e-08),\n",
       " ('bridge_highway_direction', 1.5939089166188384e-08),\n",
       " ('due_Dayofweek=0.0', 1.447094800656733e-08),\n",
       " ('created_Is_year_end=true', 1.2743143511794098e-08),\n",
       " ('due_Dayofweek=4.0', 1.1988910886498601e-08),\n",
       " ('due_Is_month_start=true', 1.0117517453477228e-08),\n",
       " ('bridge_highway_segment', 1.0024171290827673e-08),\n",
       " ('due_Month=7.0', 7.886541777425957e-09),\n",
       " ('due_Year=2015.0', 7.77223755859712e-09),\n",
       " ('due_Is_quarter_start=false', 7.538609531207508e-09),\n",
       " ('due_Month=9.0', 7.279158833303808e-09),\n",
       " ('due_Year=2018.0', 7.181838938441572e-09),\n",
       " ('due_Year=2017.0', 6.681307246394386e-09),\n",
       " ('agency=DSNY', 5.0213884008159166e-09),\n",
       " ('intersection_street_2', 4.358729660559162e-09),\n",
       " ('address_type=INTERSECTION', 3.912650672464806e-09),\n",
       " ('due_Month=12.0', 3.763047694072589e-09),\n",
       " ('bridge_highway_name', 3.3916132627245767e-09),\n",
       " ('agency=DOHMH', 2.2210938903109752e-09),\n",
       " ('open_data_channel_type=MOBILE', 1.8441081676904696e-09),\n",
       " ('taxi_pick_up_location', 1.7782396941651287e-09),\n",
       " ('due_Is_quarter_start=true', 1.2312129768638187e-09),\n",
       " ('park_facility_name', 9.641998781431387e-10),\n",
       " ('due_Is_quarter_end=true', 9.248493175793916e-10),\n",
       " ('x_coordinate_state_plane_missing=1.0', 8.053967814760314e-10),\n",
       " ('address_type=BLOCKFACE', 5.646130167766169e-10),\n",
       " ('address_type=LATLONG', 5.634552226646533e-10),\n",
       " ('due_Is_month_end=true', 4.002052985577356e-10),\n",
       " ('due_Is_quarter_end=false', 3.2097478215035405e-10),\n",
       " ('due_Year=2019.0', 3.0590567912425336e-10),\n",
       " ('agency=DCA', 2.551387550499573e-10),\n",
       " ('x_coordinate_state_plane_missing=0.0', 2.1249047653419812e-10),\n",
       " ('taxi_company_borough=missing', 1.4811378597162966e-10),\n",
       " ('taxi_company_borough=QUEENS', 1.0312789723303103e-10),\n",
       " ('due_Is_year_start=false', 9.025596869619206e-11),\n",
       " ('facility_type=School', 7.899813464756343e-11),\n",
       " ('due_Is_year_end=false', 7.222043672877907e-11),\n",
       " ('agency=DOE', 7.044213348366845e-11),\n",
       " ('vehicle_type=Ambulette / Paratransit', 5.5838310922816616e-11),\n",
       " ('address_type=PLACENAME', 5.049637568037912e-11),\n",
       " ('vehicle_type=Car Service', 4.0064187380429755e-11),\n",
       " ('agency=DOF', 3.3034629609673746e-11),\n",
       " ('vehicle_type=missing', 3.136885144374538e-11),\n",
       " ('due_Is_year_end=true', 2.713585376429715e-11),\n",
       " ('road_ramp=missing', 6.2702178663573265e-12),\n",
       " ('agency=NYCEM', 5.8308805475262705e-12),\n",
       " ('due_Year=2020.0', 4.964108010472704e-12),\n",
       " ('park_borough=Unspecified', 3.6762311440220225e-12),\n",
       " ('due_Is_year_start=true', 1.2478630057480656e-12),\n",
       " ('borough=Unspecified', 3.107903922570317e-13),\n",
       " ('taxi_company_borough=MANHATTAN', 2.3236956551304057e-13),\n",
       " ('landmark', 0.0),\n",
       " ('due_Year=2021.0', 0.0),\n",
       " ('status=Closed - Testing', 0.0),\n",
       " ('agency=3-1-1', 0.0),\n",
       " ('agency=DFTA', 0.0),\n",
       " ('road_ramp=Roadway', 0.0),\n",
       " ('taxi_company_borough=Staten Island', 0.0),\n",
       " ('taxi_company_borough=STATEN ISLAND', 0.0),\n",
       " ('taxi_company_borough=Queens', 0.0),\n",
       " ('taxi_company_borough=Manhattan', 0.0),\n",
       " ('taxi_company_borough=Brooklyn', 0.0),\n",
       " ('taxi_company_borough=Bronx', 0.0),\n",
       " ('taxi_company_borough=BROOKLYN', 0.0),\n",
       " ('taxi_company_borough=BRONX', 0.0),\n",
       " ('vehicle_type=Green Taxi', 0.0),\n",
       " ('vehicle_type=Commuter Van', 0.0),\n",
       " ('park_borough=missing', 0.0),\n",
       " ('open_data_channel_type=BRONX', 0.0),\n",
       " ('status=missing', 0.0),\n",
       " ('status=Unspecified', 0.0),\n",
       " ('status=Unassigned', 0.0),\n",
       " ('status=Started', 0.0),\n",
       " ('status=In Progress', 0.0),\n",
       " ('status=Draft', 0.0),\n",
       " ('facility_type=DSNY Garage', 0.0),\n",
       " ('borough=missing', 0.0),\n",
       " ('agency=HRA', 0.0),\n",
       " ('agency=EDC', 0.0),\n",
       " ('due_Year=2008.0', 0.0),\n",
       " ('agency=DHS', 0.0),\n",
       " ('road_ramp=Ramp', 0.0)]"
      ]
     },
     "execution_count": 141,
     "metadata": {},
     "output_type": "execute_result"
    }
   ],
   "source": [
    "importances = rf.feature_importances_\n",
    "indices = np.argsort(importances)[::-1]\n",
    "list(zip(train_x.columns[indices], importances[indices]))"
   ]
  },
  {
   "cell_type": "code",
   "execution_count": null,
   "metadata": {},
   "outputs": [],
   "source": []
  }
 ],
 "metadata": {
  "kernelspec": {
   "display_name": "Python 3",
   "language": "python",
   "name": "python3"
  },
  "language_info": {
   "codemirror_mode": {
    "name": "ipython",
    "version": 3
   },
   "file_extension": ".py",
   "mimetype": "text/x-python",
   "name": "python",
   "nbconvert_exporter": "python",
   "pygments_lexer": "ipython3",
   "version": "3.7.4"
  }
 },
 "nbformat": 4,
 "nbformat_minor": 2
}
