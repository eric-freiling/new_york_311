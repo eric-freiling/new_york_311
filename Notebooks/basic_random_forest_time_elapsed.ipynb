{
 "cells": [
  {
   "cell_type": "code",
   "execution_count": 1,
   "metadata": {},
   "outputs": [
    {
     "name": "stdout",
     "output_type": "stream",
     "text": [
      "Populating the interactive namespace from numpy and matplotlib\n"
     ]
    }
   ],
   "source": [
    "%pylab nbagg"
   ]
  },
  {
   "cell_type": "code",
   "execution_count": 2,
   "metadata": {},
   "outputs": [],
   "source": [
    "from pathlib import Path\n",
    "from os import listdir\n",
    "import pandas as pd\n",
    "from datetime import datetime, timedelta\n",
    "from importlib import reload\n",
    "import utils\n",
    "import pickle\n",
    "from sklearn.model_selection import train_test_split, RandomizedSearchCV\n",
    "from sklearn.ensemble import RandomForestRegressor\n",
    "from sklearn.preprocessing import LabelEncoder\n",
    "from scipy.stats import mode"
   ]
  },
  {
   "cell_type": "code",
   "execution_count": 3,
   "metadata": {},
   "outputs": [],
   "source": [
    "from fastai.tabular import *"
   ]
  },
  {
   "cell_type": "code",
   "execution_count": 4,
   "metadata": {},
   "outputs": [
    {
     "data": {
      "text/plain": [
       "<module 'utils' from 'C:\\\\Users\\\\efreiling\\\\Desktop\\\\new_york_311\\\\Notebooks\\\\utils.py'>"
      ]
     },
     "execution_count": 4,
     "metadata": {},
     "output_type": "execute_result"
    }
   ],
   "source": [
    "reload(utils)"
   ]
  },
  {
   "cell_type": "markdown",
   "metadata": {},
   "source": [
    "# Load the data\n",
    "- We are only dealing with 10% of the data for memory and time purposes"
   ]
  },
  {
   "cell_type": "code",
   "execution_count": 5,
   "metadata": {},
   "outputs": [],
   "source": [
    "data_folder = Path('../../data/new_york_311')\n",
    "data_path = data_folder / 'data_311.csv'"
   ]
  },
  {
   "cell_type": "code",
   "execution_count": 6,
   "metadata": {},
   "outputs": [
    {
     "name": "stderr",
     "output_type": "stream",
     "text": [
      "C:\\Users\\efreiling\\AppData\\Local\\Continuum\\anaconda3\\lib\\site-packages\\IPython\\core\\interactiveshell.py:3058: DtypeWarning: Columns (31,32) have mixed types. Specify dtype option on import or set low_memory=False.\n",
      "  interactivity=interactivity, compiler=compiler, result=result)\n"
     ]
    }
   ],
   "source": [
    "orig_data = pd.read_csv(data_path)"
   ]
  },
  {
   "cell_type": "markdown",
   "metadata": {},
   "source": [
    "# Data Processing"
   ]
  },
  {
   "cell_type": "markdown",
   "metadata": {},
   "source": [
    "### Drop Certain Columns"
   ]
  },
  {
   "cell_type": "markdown",
   "metadata": {},
   "source": [
    "One of the main columns that would be useful is resolution description. Depending on the scenario or application this could be considered to have leakage. However, if we were to include it in the features, we can try several approaches:\n",
    "- Drop stop words\n",
    "- Convert words to vectors using word2vec, take the average of the vectors\n",
    "- Sklearn HashingVectorizer\n",
    "- Use Tf-Idf to find important words, use word2vec on top N words"
   ]
  },
  {
   "cell_type": "code",
   "execution_count": 34,
   "metadata": {},
   "outputs": [],
   "source": [
    "drop_cols = [\n",
    "    'unique_key',                     # If interested in finding hidden leakage, investigate this column\n",
    "    'agency_name',                    # Redundant to agancy\n",
    "    'descriptor',                     # This gives away the complaint type, leakage\n",
    "    'incident_address',               # Didnt want street numbers\n",
    "    'bbl',                            # We already have enough goelocaions\n",
    "    'location',                       # Redundant to Lat and Lng\n",
    "    'resolution_action_updated_date', # caused errors\n",
    "    'resolution_description'          # Probably very useful but not enough time to use and maybe leakage\n",
    "]\n"
   ]
  },
  {
   "cell_type": "code",
   "execution_count": 35,
   "metadata": {},
   "outputs": [],
   "source": [
    "df = utils.drop_useless_cols(orig_data, drop_cols)       "
   ]
  },
  {
   "cell_type": "markdown",
   "metadata": {},
   "source": [
    "### Filter Rows\n",
    "- Only use rows that contain the 130 complaint types\n",
    "- Filter rows that are all NaN"
   ]
  },
  {
   "cell_type": "code",
   "execution_count": 36,
   "metadata": {},
   "outputs": [],
   "source": [
    "df = utils.filter_rows(df)"
   ]
  },
  {
   "cell_type": "markdown",
   "metadata": {},
   "source": [
    "### Define Continuous, Categorical, Date Columns"
   ]
  },
  {
   "cell_type": "markdown",
   "metadata": {},
   "source": [
    "# Data Product "
   ]
  },
  {
   "cell_type": "markdown",
   "metadata": {},
   "source": [
    "Instead of building a model on the complaint type, I think it would be interesting to build a model on predicting the time elapsed between date created and closed date. I think this would be more product focused. Given a complaint, a user/manager can use the model to determine if it is going to take a long time to close. Maybe resources could be better allocated for quicler resolutions."
   ]
  },
  {
   "cell_type": "markdown",
   "metadata": {},
   "source": [
    "### Complaint type is a Cat Col"
   ]
  },
  {
   "cell_type": "code",
   "execution_count": 37,
   "metadata": {},
   "outputs": [],
   "source": [
    "cont_cols = [\n",
    "    'x_coordinate_state_plane',\n",
    "    'y_coordinate_state_plane',\n",
    "    'latitude',\n",
    "    'longitude'\n",
    "]\n",
    "cat_cols = [\n",
    "    'complaint_type',\n",
    "    'agency',\n",
    "    'borough',\n",
    "    'location_type',\n",
    "    'incident_zip',\n",
    "    'street_name',\n",
    "    'cross_street_1',\n",
    "    'cross_street_2',\n",
    "    'intersection_street_1',\n",
    "    'intersection_street_2',\n",
    "    'address_type',\n",
    "    'city',\n",
    "    'landmark',\n",
    "    'facility_type',\n",
    "    'status',\n",
    "    'community_board',\n",
    "    'open_data_channel_type',\n",
    "    'park_facility_name',\n",
    "    'park_borough',\n",
    "    'vehicle_type',\n",
    "    'taxi_company_borough',\n",
    "    'taxi_pick_up_location',\n",
    "    'bridge_highway_name',\n",
    "    'bridge_highway_direction',\n",
    "    'road_ramp',\n",
    "    'bridge_highway_segment',\n",
    "]\n",
    "date_cols = [\n",
    "    'created_date',\n",
    "    'closed_date',\n",
    "    'due_date',\n",
    "]\n"
   ]
  },
  {
   "cell_type": "markdown",
   "metadata": {},
   "source": [
    "### Process All Date Columns Except Closed Date\n",
    "- Add columns for time elapsed between dates\n",
    "- Add features for day of week, end of year, etc"
   ]
  },
  {
   "cell_type": "code",
   "execution_count": 38,
   "metadata": {},
   "outputs": [],
   "source": [
    "# Convert all date cols to datetimes\n",
    "for dc in date_cols:\n",
    "    df[dc] = pd.to_datetime(df[dc])\n",
    "\n",
    "# add columns for time elapsed between dates\n",
    "df['time_to_close'] = (df['closed_date']-df['created_date']).astype('timedelta64[h]')\n",
    "df['due_len'] = (df['due_date']-df['created_date']).astype('timedelta64[h]')\n",
    "# df['time_over'] = (df['due_date']-df['closed_date']).astype('timedelta64[h]')\n",
    "cont_cols += ['time_to_close', 'due_len']\n",
    "#df, cont_cols = utils.create_date_lengths(df, cont_cols)\n",
    "date_cols.remove('closed_date')\n",
    "# Add date boolean features, day of week, end of year, etc\n",
    "for d in date_cols:\n",
    "    add_datepart(df, d, drop=True)\n",
    "\n",
    "# Keep track of created categorical columns\n",
    "cat_cols += list(set(df.columns) - set(cont_cols) - set(cat_cols) - set(dep_var))"
   ]
  },
  {
   "cell_type": "code",
   "execution_count": 39,
   "metadata": {},
   "outputs": [],
   "source": [
    "cat_cols.remove('closed_date')\n",
    "df = df.drop(columns=['closed_date'])\n",
    "dep_var = ['time_to_close']"
   ]
  },
  {
   "cell_type": "markdown",
   "metadata": {},
   "source": [
    "### Process Continuous Columns\n",
    "- Fill in missing values with the median of the column, then add another feature that idicates which rows had missing values\n",
    "- Normalize Z-score"
   ]
  },
  {
   "cell_type": "code",
   "execution_count": 41,
   "metadata": {},
   "outputs": [],
   "source": [
    "df, cont_cols, cat_cols = utils.process_cont_cols(df, cont_cols, cat_cols)"
   ]
  },
  {
   "cell_type": "code",
   "execution_count": 44,
   "metadata": {},
   "outputs": [],
   "source": [
    "df = df.drop(columns=['time_to_close_missing'])\n",
    "cat_cols.remove('time_to_close_missing')"
   ]
  },
  {
   "cell_type": "markdown",
   "metadata": {},
   "source": [
    "### Process Categorical Columns\n",
    "- Ordinal Encoding for columns with number of classes greater than 20\n",
    "- One hot encoding for columns with number of classes 20 or less"
   ]
  },
  {
   "cell_type": "code",
   "execution_count": 45,
   "metadata": {},
   "outputs": [],
   "source": [
    "df, cat_cols, label_encoders = utils.process_cat_cols(df, cat_cols)"
   ]
  },
  {
   "cell_type": "markdown",
   "metadata": {},
   "source": [
    "### Split Dataframe into Features and Target"
   ]
  },
  {
   "cell_type": "code",
   "execution_count": 47,
   "metadata": {},
   "outputs": [],
   "source": [
    "y = df[dep_var[0]]\n",
    "x = df.drop(columns=dep_var)"
   ]
  },
  {
   "cell_type": "markdown",
   "metadata": {},
   "source": [
    "# Train a Random Forest Regressor and Compare to Naive Solution"
   ]
  },
  {
   "cell_type": "code",
   "execution_count": 48,
   "metadata": {},
   "outputs": [],
   "source": [
    "seed = 45\n",
    "train_x, test_x, train_y, test_y = train_test_split(x, y, test_size=0.2, random_state=seed)\n",
    "clf = RandomForestRegressor(max_depth=12, random_state=seed)"
   ]
  },
  {
   "cell_type": "code",
   "execution_count": 49,
   "metadata": {},
   "outputs": [
    {
     "name": "stderr",
     "output_type": "stream",
     "text": [
      "C:\\Users\\efreiling\\AppData\\Local\\Continuum\\anaconda3\\lib\\site-packages\\sklearn\\ensemble\\forest.py:245: FutureWarning: The default value of n_estimators will change from 10 in version 0.20 to 100 in 0.22.\n",
      "  \"10 in version 0.20 to 100 in 0.22.\", FutureWarning)\n"
     ]
    },
    {
     "data": {
      "text/plain": [
       "RandomForestRegressor(bootstrap=True, criterion='mse', max_depth=12,\n",
       "                      max_features='auto', max_leaf_nodes=None,\n",
       "                      min_impurity_decrease=0.0, min_impurity_split=None,\n",
       "                      min_samples_leaf=1, min_samples_split=2,\n",
       "                      min_weight_fraction_leaf=0.0, n_estimators=10,\n",
       "                      n_jobs=None, oob_score=False, random_state=45, verbose=0,\n",
       "                      warm_start=False)"
      ]
     },
     "execution_count": 49,
     "metadata": {},
     "output_type": "execute_result"
    }
   ],
   "source": [
    "clf.fit(train_x, train_y)"
   ]
  },
  {
   "cell_type": "code",
   "execution_count": 50,
   "metadata": {},
   "outputs": [
    {
     "name": "stdout",
     "output_type": "stream",
     "text": [
      "Accuracy\n",
      "Random Forest: 0.02967872684001366, Naive: 0.03878168471282954\n"
     ]
    }
   ],
   "source": [
    "preds = clf.predict(test_x)\n",
    "rf_error = np.mean(np.abs(preds - np.array(test_y)))\n",
    "naive_error = np.mean(np.abs(np.array(test_y)))\n",
    "print('Accuracy')\n",
    "print(f'Random Forest: {rf_error}, Naive: {naive_error}')"
   ]
  },
  {
   "cell_type": "code",
   "execution_count": 52,
   "metadata": {},
   "outputs": [
    {
     "data": {
      "text/plain": [
       "[('due_len', 0.24175687678100155),\n",
       " ('due_Elapsed', 0.21411207107336191),\n",
       " ('created_Elapsed', 0.100418148318213),\n",
       " ('complaint_type', 0.085779436102114),\n",
       " ('agency=DOHMH', 0.07981887371700853),\n",
       " ('status=Assigned', 0.03236341752537319),\n",
       " ('created_Week', 0.01566317404512454),\n",
       " ('created_Dayofyear', 0.015444841596251091),\n",
       " ('street_name', 0.014778517326053016),\n",
       " ('location_type', 0.01444594300958986),\n",
       " ('due_Year=2012.0', 0.0115664341941727),\n",
       " ('due_Day', 0.0112185801157408),\n",
       " ('cross_street_2', 0.011030338119510286),\n",
       " ('created_Day', 0.01082944547901107),\n",
       " ('created_Year=2012', 0.008499906754067648),\n",
       " ('community_board', 0.008314506155426364),\n",
       " ('longitude', 0.007647092675971841),\n",
       " ('cross_street_1', 0.007301724373272027),\n",
       " ('x_coordinate_state_plane', 0.00729601556435464),\n",
       " ('incident_zip', 0.007209613546275584),\n",
       " ('due_Week', 0.006579450375785611),\n",
       " ('due_Dayofyear', 0.006321154396561096),\n",
       " ('created_Month=3', 0.00576884005372389),\n",
       " ('latitude', 0.004973083667598879),\n",
       " ('y_coordinate_state_plane', 0.0049104128499094955),\n",
       " ('created_Dayofweek=5', 0.002927594529367739),\n",
       " ('city', 0.002870561873045112),\n",
       " ('created_Month=4', 0.0026964337498947438),\n",
       " ('due_Month=11.0', 0.0026506813562116407),\n",
       " ('facility_type=missing', 0.002324100867442219),\n",
       " ('due_Month=5.0', 0.0022118067654794925),\n",
       " ('address_type=BLOCKFACE', 0.002196547367879539),\n",
       " ('created_Dayofweek=3', 0.0019401241178821811),\n",
       " ('facility_type=Precinct', 0.0019209806591870126),\n",
       " ('open_data_channel_type=UNKNOWN', 0.0018671283079197696),\n",
       " ('created_Dayofweek=6', 0.0018608259218494787),\n",
       " ('due_Month=4.0', 0.0017415994159099158),\n",
       " ('park_borough=BROOKLYN', 0.0016440678859680092),\n",
       " ('due_Dayofweek=3.0', 0.0016416239229248052),\n",
       " ('borough=BROOKLYN', 0.0014938435673510658),\n",
       " ('created_Dayofweek=1', 0.0014094976967764803),\n",
       " ('open_data_channel_type=PHONE', 0.0013982671972493452),\n",
       " ('due_Dayofweek=5.0', 0.0012013618903560128),\n",
       " ('open_data_channel_type=MOBILE', 0.0010709409239508698),\n",
       " ('created_Year=2013', 0.0010425598963092753),\n",
       " ('created_Dayofweek=2', 0.000968905881922276),\n",
       " ('created_Year=2011', 0.0009613947545963472),\n",
       " ('created_Month=1', 0.0009495075144202628),\n",
       " ('due_Month=9.0', 0.0009431541278056752),\n",
       " ('due_Dayofweek=0.0', 0.0009167696334201141),\n",
       " ('created_Month=10', 0.0009143544883619581),\n",
       " ('due_Dayofweek=6.0', 0.0008692225891853173),\n",
       " ('landmark', 0.0007861837702528298),\n",
       " ('taxi_pick_up_location', 0.0007745161106697089),\n",
       " ('park_borough=QUEENS', 0.0007384300432272247),\n",
       " ('created_Dayofweek=4', 0.0007354831681810582),\n",
       " ('due_Month=2.0', 0.0007061596762963495),\n",
       " ('status=Draft', 0.0006974633451414132),\n",
       " ('due_Month=1.0', 0.0006697160146247946),\n",
       " ('due_Month=6.0', 0.0006685455166840376),\n",
       " ('park_borough=MANHATTAN', 0.0006412662759452224),\n",
       " ('borough=STATEN ISLAND', 0.0006319296509381213),\n",
       " ('due_Is_year_end=false', 0.0006213247509084919),\n",
       " ('intersection_street_1', 0.0005920538171114829),\n",
       " ('address_type=ADDRESS', 0.0005665646866604039),\n",
       " ('due_Month=10.0', 0.0005478108394594966),\n",
       " ('due_Year=2013.0', 0.0005458782541701753),\n",
       " ('created_Year=2010', 0.0005415064542133835),\n",
       " ('due_Year=2017.0', 0.0005413474761048581),\n",
       " ('due_Month=3.0', 0.0005364005837640411),\n",
       " ('created_Dayofweek=0', 0.0005005457056323593),\n",
       " ('agency=DOB', 0.0004824128321123592),\n",
       " ('due_Is_month_start=true', 0.00047329706189191663),\n",
       " ('due_Dayofweek=2.0', 0.00046839667873520437),\n",
       " ('road_ramp=missing', 0.00046226836372983515),\n",
       " ('created_Month=9', 0.00044470052647717796),\n",
       " ('bridge_highway_segment', 0.00041817962114564216),\n",
       " ('created_Month=6', 0.00041429377180685414),\n",
       " ('due_Year=2011.0', 0.00039944361255413304),\n",
       " ('borough=QUEENS', 0.0003985727025714766),\n",
       " ('bridge_highway_name', 0.00039020940034359636),\n",
       " ('due_Month=7.0', 0.00033897033796439076),\n",
       " ('open_data_channel_type=ONLINE', 0.0003329290406849391),\n",
       " ('created_Month=2', 0.00033037954274286915),\n",
       " ('status=Pending', 0.000284048779597507),\n",
       " ('due_Month=missing', 0.00026497884867184013),\n",
       " ('due_Dayofweek=1.0', 0.0002569137844797732),\n",
       " ('created_Year=2017', 0.0002562921159967039),\n",
       " ('created_Month=5', 0.00023739668866638863),\n",
       " ('due_Dayofweek=4.0', 0.00023526652797485503),\n",
       " ('due_Is_quarter_end=false', 0.00023348837901203875),\n",
       " ('created_Is_month_start=false', 0.00022848155482820725),\n",
       " ('agency=DPR', 0.00022777865319706408),\n",
       " ('borough=BRONX', 0.0002240583219971031),\n",
       " ('created_Is_month_start=true', 0.00021307353210244857),\n",
       " ('park_borough=BRONX', 0.00020816865299227977),\n",
       " ('open_data_channel_type=OTHER', 0.00019868622481002303),\n",
       " ('created_Year=2019', 0.00019710238478409933),\n",
       " ('borough=MANHATTAN', 0.0001655488941041561),\n",
       " ('park_borough=Unspecified', 0.00011440224088258553),\n",
       " ('due_Is_month_start=false', 0.00011178023554460809),\n",
       " ('status=Open', 8.769263892607675e-05),\n",
       " ('intersection_street_2', 3.316601360493448e-05),\n",
       " ('agency=DOT', 3.006231684393941e-05),\n",
       " ('status=Closed', 2.5045531254595042e-05),\n",
       " ('agency=DCA', 2.4537483199112713e-05),\n",
       " ('created_Year=2015', 1.3894091239021857e-05),\n",
       " ('created_Year=2014', 5.479312927105776e-06),\n",
       " ('bridge_highway_direction', 5.116447958015902e-06),\n",
       " ('agency=NYCEM', 4.959232310927986e-06),\n",
       " ('created_Month=11', 3.6365724402120234e-06),\n",
       " ('address_type=missing', 2.577337627167043e-06),\n",
       " ('due_Year=2016.0', 2.3550950818938247e-06),\n",
       " ('due_Year=2015.0', 2.342979527071825e-06),\n",
       " ('agency=DSNY', 1.9341679704936264e-06),\n",
       " ('park_borough=STATEN ISLAND', 1.9303691219974625e-06),\n",
       " ('created_Is_month_end=false', 1.8332811460762979e-06),\n",
       " ('due_Year=2018.0', 1.410506281629189e-06),\n",
       " ('created_Year=2016', 1.2657052579125053e-06),\n",
       " ('created_Month=8', 1.1674707111595727e-06),\n",
       " ('created_Is_quarter_end=false', 1.1512947395446534e-06),\n",
       " ('due_Is_year_end=true', 1.091822902574321e-06),\n",
       " ('agency=TLC', 8.93903644245204e-07),\n",
       " ('created_Month=7', 7.306133797208303e-07),\n",
       " ('due_Month=12.0', 6.965141052404643e-07),\n",
       " ('agency=DEP', 6.690490401192906e-07),\n",
       " ('created_Is_month_end=true', 6.098853189701198e-07),\n",
       " ('created_Month=12', 5.653488904416183e-07),\n",
       " ('park_facility_name', 5.358059568395859e-07),\n",
       " ('due_Month=8.0', 5.298268421413351e-07),\n",
       " ('created_Is_quarter_start=true', 5.243760561236749e-07),\n",
       " ('due_Is_month_end=false', 4.898046167128985e-07),\n",
       " ('vehicle_type=missing', 4.7015184947362805e-07),\n",
       " ('due_Is_quarter_end=true', 4.2948321946539975e-07),\n",
       " ('created_Is_year_end=true', 3.890181351392033e-07),\n",
       " ('due_Year=2014.0', 3.8440580319594414e-07),\n",
       " ('created_Is_quarter_start=false', 3.7906026896783385e-07),\n",
       " ('longitude_missing=1.0', 3.5692338423441064e-07),\n",
       " ('due_Is_month_end=true', 3.355722958647979e-07),\n",
       " ('due_Dayofweek=missing', 3.3298191294487876e-07),\n",
       " ('created_Is_year_end=false', 2.2233486638376437e-07),\n",
       " ('due_Year=2010.0', 2.166466041078823e-07),\n",
       " ('address_type=INTERSECTION', 1.8338236448394242e-07),\n",
       " ('due_Year=missing', 1.497661083550202e-07),\n",
       " ('created_Is_year_start=true', 1.3801242518778417e-07),\n",
       " ('created_Year=2018', 1.3043777951106555e-07),\n",
       " ('due_Year=2019.0', 8.805867350030962e-08),\n",
       " ('due_len_missing=1.0', 7.291371714392268e-08),\n",
       " ('address_type=PLACENAME', 7.023797209977469e-08),\n",
       " ('status=In Progress', 5.2488252954945164e-08),\n",
       " ('due_Is_quarter_start=true', 5.021283528948046e-08),\n",
       " ('agency=HPD', 4.07491079875614e-08),\n",
       " ('address_type=LATLONG', 4.0726070756428956e-08),\n",
       " ('agency=NYPD', 3.130675924764557e-08),\n",
       " ('x_coordinate_state_plane_missing=0.0', 2.9544918252912727e-08),\n",
       " ('latitude_missing=1.0', 2.452017915621873e-08),\n",
       " ('created_Is_quarter_end=true', 1.9995525110929387e-08),\n",
       " ('agency=EDC', 1.7628293583405342e-08),\n",
       " ('x_coordinate_state_plane_missing=1.0', 1.7226601508013474e-08),\n",
       " ('due_Is_quarter_start=false', 6.536939108178634e-09),\n",
       " ('due_Year=2020.0', 5.798885652937221e-09),\n",
       " ('due_Year=2021.0', 5.487863855844916e-09),\n",
       " ('due_Is_year_start=false', 4.920251205080932e-09),\n",
       " ('due_Is_year_start=true', 4.1115243702988414e-09),\n",
       " ('longitude_missing=0.0', 3.3360430068923105e-09),\n",
       " ('y_coordinate_state_plane_missing=1.0', 7.004666477771933e-10),\n",
       " ('borough=Unspecified', 2.2282981256743082e-10),\n",
       " ('road_ramp=Roadway', 9.400412672444016e-11),\n",
       " ('latitude_missing=0.0', 3.235372133743169e-11),\n",
       " ('y_coordinate_state_plane_missing=0.0', 1.884587851089553e-12),\n",
       " ('facility_type=DSNY Garage', 8.852580199881833e-13),\n",
       " ('due_len_missing=0.0', 5.2165317906968e-13),\n",
       " ('road_ramp=Ramp', 1.7449887510088584e-13),\n",
       " ('due_Year=2008.0', 0.0),\n",
       " ('created_Is_year_start=false', 0.0),\n",
       " ('due_Year=1900.0', 0.0),\n",
       " ('agency=DHS', 0.0),\n",
       " ('agency=3-1-1', 0.0),\n",
       " ('taxi_company_borough=BRONX', 0.0),\n",
       " ('status=Started', 0.0),\n",
       " ('status=Unassigned', 0.0),\n",
       " ('status=Unspecified', 0.0),\n",
       " ('facility_type=School', 0.0),\n",
       " ('status=missing', 0.0),\n",
       " ('open_data_channel_type=BRONX', 0.0),\n",
       " ('park_borough=missing', 0.0),\n",
       " ('vehicle_type=Ambulette / Paratransit', 0.0),\n",
       " ('borough=missing', 0.0),\n",
       " ('vehicle_type=Car Service', 0.0),\n",
       " ('vehicle_type=Commuter Van', 0.0),\n",
       " ('vehicle_type=Green Taxi', 0.0),\n",
       " ('taxi_company_borough=BROOKLYN', 0.0),\n",
       " ('taxi_company_borough=missing', 0.0),\n",
       " ('taxi_company_borough=Bronx', 0.0),\n",
       " ('taxi_company_borough=Brooklyn', 0.0),\n",
       " ('agency=HRA', 0.0),\n",
       " ('taxi_company_borough=MANHATTAN', 0.0),\n",
       " ('taxi_company_borough=Manhattan', 0.0),\n",
       " ('taxi_company_borough=QUEENS', 0.0),\n",
       " ('taxi_company_borough=Queens', 0.0),\n",
       " ('agency=DOF', 0.0),\n",
       " ('agency=DOE', 0.0),\n",
       " ('taxi_company_borough=STATEN ISLAND', 0.0),\n",
       " ('status=Closed - Testing', 0.0),\n",
       " ('agency=DFTA', 0.0),\n",
       " ('taxi_company_borough=Staten Island', 0.0)]"
      ]
     },
     "execution_count": 52,
     "metadata": {},
     "output_type": "execute_result"
    }
   ],
   "source": [
    "importances = clf.feature_importances_\n",
    "indices = np.argsort(importances)[::-1]\n",
    "list(zip(train_x.columns[indices], importances[indices]))"
   ]
  },
  {
   "cell_type": "code",
   "execution_count": null,
   "metadata": {},
   "outputs": [],
   "source": []
  }
 ],
 "metadata": {
  "kernelspec": {
   "display_name": "Python 3",
   "language": "python",
   "name": "python3"
  },
  "language_info": {
   "codemirror_mode": {
    "name": "ipython",
    "version": 3
   },
   "file_extension": ".py",
   "mimetype": "text/x-python",
   "name": "python",
   "nbconvert_exporter": "python",
   "pygments_lexer": "ipython3",
   "version": "3.7.4"
  }
 },
 "nbformat": 4,
 "nbformat_minor": 2
}
