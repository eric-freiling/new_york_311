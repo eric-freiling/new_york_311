{
 "cells": [
  {
   "cell_type": "code",
   "execution_count": null,
   "metadata": {
    "_cell_guid": "b1076dfc-b9ad-4769-8c92-a6c4dae69d19",
    "_uuid": "8f2839f25d086af736a60e9eeb907d3b93b6e0e5"
   },
   "outputs": [],
   "source": [
    "# This Python 3 environment comes with many helpful analytics libraries installed\n",
    "# It is defined by the kaggle/python docker image: https://github.com/kaggle/docker-python\n",
    "# For example, here's several helpful packages to load in \n",
    "\n",
    "import numpy as np # linear algebra\n",
    "import pandas as pd # data processing, CSV file I/O (e.g. pd.read_csv)\n",
    "\n",
    "# Input data files are available in the \"../input/\" directory.\n",
    "# For example, running this (by clicking run or pressing Shift+Enter) will list all files under the input directory\n",
    "\n",
    "import os\n",
    "for dirname, _, filenames in os.walk('/kaggle/input'):\n",
    "    for filename in filenames:\n",
    "        print(os.path.join(dirname, filename))\n",
    "\n",
    "# Any results you write to the current directory are saved as output."
   ]
  },
  {
   "cell_type": "code",
   "execution_count": null,
   "metadata": {},
   "outputs": [],
   "source": [
    "orig_data = pd.read_csv(os.path.join(dirname, filename))"
   ]
  },
  {
   "cell_type": "code",
   "execution_count": null,
   "metadata": {},
   "outputs": [],
   "source": [
    "orig_data.head()"
   ]
  },
  {
   "cell_type": "code",
   "execution_count": null,
   "metadata": {},
   "outputs": [],
   "source": [
    "cont_cols = [\n",
    "    'x_coordinate_state_plane',\n",
    "    'y_coordinate_state_plane',\n",
    "    'latitude',\n",
    "    'longitude',\n",
    "    'time_to_close',\n",
    "    'due_len',\n",
    "    'time_over'\n",
    "]\n",
    "cat_cols = [\n",
    "    'agency',\n",
    "    'borough',\n",
    "    'location_type',\n",
    "    'incident_zip',\n",
    "    'street_name',\n",
    "    'cross_street_1',\n",
    "    'cross_street_2',\n",
    "    'intersection_street_1',\n",
    "    'intersection_street_2',\n",
    "    'address_type',\n",
    "    'city',\n",
    "    'landmark',\n",
    "    'facility_type',\n",
    "    'status',\n",
    "    'community_board',\n",
    "    'open_data_channel_type',\n",
    "    'park_facility_name',\n",
    "    'park_borough',\n",
    "    'vehicle_type',\n",
    "    'taxi_company_borough',\n",
    "    'taxi_pick_up_location',\n",
    "    'bridge_highway_name',\n",
    "    'bridge_highway_direction',\n",
    "    'road_ramp',\n",
    "    'bridge_highway_segment',\n",
    "]\n",
    "date_cols = [\n",
    "    'created_date',\n",
    "    'closed_date',\n",
    "    'due_date',\n",
    "]\n",
    "dep_var = ['complaint_type']\n",
    "\n",
    "drop_cols = [\n",
    "    'unique_key',                     # If interested in leakage, investigate this column\n",
    "    'agency_name',                    # Redundant to agancy\n",
    "    'descriptor',                     # This gives away the complaint type, too easy\n",
    "    'incident_address',               # Didnt want street numbers, too easy\n",
    "    'bbl',                            # We already have enough goelocaions\n",
    "    'location',                       # Redundant to Lat and Lng\n",
    "    'resolution_action_updated_date', # caused errors\n",
    "    # Maybe Use if there is time\n",
    "    'resolution_description',         # Probably very useful but not enough time to use\n",
    "\n",
    "]\n"
   ]
  },
  {
   "cell_type": "raw",
   "metadata": {
    "_cell_guid": "79c7e3d0-c299-4dcb-8224-4455121ee9b0",
    "_uuid": "d629ff2d2480ee46fbb7e2d37f6b5fab8052498a",
    "collapsed": true
   },
   "source": []
  },
  {
   "cell_type": "code",
   "execution_count": null,
   "metadata": {},
   "outputs": [],
   "source": [
    "labels = ['APPLIANCE', 'Abandoned Vehicle', 'Air Quality', 'Animal Abuse',\n",
    "       'Animal in a Park', 'Asbestos', 'BEST/Site Safety',\n",
    "       'Benefit Card Replacement', 'Blocked Driveway', 'Boilers',\n",
    "       'Borough Office', 'Broken Muni Meter', 'Broken Parking Meter',\n",
    "       'Building Marshals office', 'Building/Use',\n",
    "       'Bus Stop Shelter Complaint', 'Construction',\n",
    "       'Construction Safety Enforcement', 'Consumer Complaint',\n",
    "       'Curb Condition', 'DCA / DOH New License Application Request',\n",
    "       'DHS Advantage - Tenant', 'DHS Advantage -Landlord/Broker',\n",
    "       'DOF Parking - Payment Issue', 'DOF Parking - Request Copy',\n",
    "       'DOF Parking - Request Status', 'DOF Property - Owner Issue',\n",
    "       'DOF Property - Payment Issue', 'DOF Property - Reduction Issue',\n",
    "       'DOF Property - Request Copy', 'DOF Property - Update Account',\n",
    "       'DOOR/WINDOW', 'DPR Internal', 'Damaged Tree', 'Dead Tree',\n",
    "       'Dead/Dying Tree', 'Derelict Bicycle', 'Derelict Vehicle',\n",
    "       'Derelict Vehicles', 'Dirty Conditions', 'Drinking', 'ELECTRIC',\n",
    "       'Electrical', 'Electronics Waste', 'Elevator',\n",
    "       'Emergency Response Team (ERT)', 'FLOORING/STAIRS',\n",
    "       'Food Establishment', 'Food Poisoning',\n",
    "       'For Hire Vehicle Complaint', 'GENERAL', 'GENERAL CONSTRUCTION',\n",
    "       'General Construction/Plumbing', 'Graffiti', 'HEAT/HOT WATER',\n",
    "       'HEATING', 'HPD Literature Request', 'Hazardous Materials',\n",
    "       'Highway Condition', 'Homeless Encampment',\n",
    "       'Homeless Person Assistance', 'Housing - Low Income Senior',\n",
    "       'Housing Options', 'Illegal Parking', 'Illegal Tree Damage',\n",
    "       'Indoor Air Quality', 'Indoor Sewage', 'Industrial Waste',\n",
    "       'Investigations and Discipline (IAD)', 'Lead',\n",
    "       'Litter Basket / Request', 'Maintenance or Facility',\n",
    "       'Miscellaneous Categories', 'Missed Collection (All Materials)',\n",
    "       'NONCONST', 'New Tree Request', 'Noise', 'Noise - Commercial',\n",
    "       'Noise - Helicopter', 'Noise - House of Worship', 'Noise - Park',\n",
    "       'Noise - Residential', 'Noise - Street/Sidewalk',\n",
    "       'Noise - Vehicle', 'Noise Survey', 'Non-Emergency Police Matter',\n",
    "       'Non-Residential Heat', 'OEM Literature Request',\n",
    "       'OUTSIDE BUILDING', 'Other Enforcement',\n",
    "       'Overflowing Litter Baskets', 'Overgrown Tree/Branches',\n",
    "       'PAINT - PLASTER', 'PAINT/PLASTER', 'PLUMBING', 'Plumbing',\n",
    "       'Recycling Enforcement', 'Request Large Bulky Item Collection',\n",
    "       'Rodent', 'Root/Sewer/Sidewalk Condition', 'SAFETY', 'SCRIE',\n",
    "       'Sanitation Condition', 'School Maintenance', 'Sewer',\n",
    "       'Sidewalk Condition', 'Smoking', 'Snow',\n",
    "       'Special Projects Inspection Team (SPIT)', 'Standing Water',\n",
    "       'Street Condition', 'Street Light Condition',\n",
    "       'Street Sign - Damaged', 'Street Sign - Dangling',\n",
    "       'Street Sign - Missing', 'Taxi Complaint', 'Taxi Report',\n",
    "       'Traffic', 'Traffic Signal Condition', 'Traffic/Illegal Parking',\n",
    "       'UNSANITARY CONDITION', 'Unleashed Dog',\n",
    "       'Unsanitary Animal Pvt Property', 'Vacant Lot', 'Vending',\n",
    "       'Violation of Park Rules', 'WATER LEAK', 'Water Conservation',\n",
    "       'Water Quality', 'Water System']"
   ]
  },
  {
   "cell_type": "code",
   "execution_count": null,
   "metadata": {},
   "outputs": [],
   "source": [
    "df = orig_data.drop(columns=drop_cols)\n",
    "df = df[df['complaint_type'].isin(labels)]"
   ]
  },
  {
   "cell_type": "code",
   "execution_count": null,
   "metadata": {},
   "outputs": [],
   "source": [
    "df.head()"
   ]
  },
  {
   "cell_type": "code",
   "execution_count": null,
   "metadata": {},
   "outputs": [],
   "source": [
    "for dc in date_cols:\n",
    "    df[dc] = pd.to_datetime(df[dc])\n"
   ]
  },
  {
   "cell_type": "code",
   "execution_count": null,
   "metadata": {},
   "outputs": [],
   "source": [
    "df['time_to_close'] = (df['closed_date']-df['created_date']).astype('timedelta64[h]')\n",
    "df['due_len'] = (df['due_date']-df['created_date']).astype('timedelta64[h]')\n",
    "df['time_over'] = (df['due_date']-df['closed_date']).astype('timedelta64[h]')\n",
    "cont_cols += ['time_to_close', 'due_len', 'time_over']"
   ]
  },
  {
   "cell_type": "code",
   "execution_count": null,
   "metadata": {},
   "outputs": [],
   "source": [
    "train_perc = 0.8\n",
    "valid_idx = int(len(df) * train_perc)"
   ]
  },
  {
   "cell_type": "code",
   "execution_count": null,
   "metadata": {},
   "outputs": [],
   "source": [
    "from fastai import *\n",
    "from fastai.tabular import *"
   ]
  },
  {
   "cell_type": "code",
   "execution_count": null,
   "metadata": {},
   "outputs": [],
   "source": [
    "procs = [FillMissing, Categorify, Normalize] # FillMissing\n",
    "dep_var = 'complaint_type'"
   ]
  },
  {
   "cell_type": "code",
   "execution_count": null,
   "metadata": {},
   "outputs": [],
   "source": [
    "data = (TabularList.from_df(df, path='.', cat_names=cat_cols, cont_names=cont_cols, procs=procs)\n",
    "                        .split_by_idx(list(range(valid_idx,len(df))))\n",
    "                        .label_from_df(cols = dep_var)\n",
    "                        .databunch())"
   ]
  },
  {
   "cell_type": "code",
   "execution_count": null,
   "metadata": {},
   "outputs": [],
   "source": [
    "learn = tabular_learner(data, layers=[200, 100], metrics=accuracy)\n",
    "learn.fit(1, 1e-4)"
   ]
  },
  {
   "cell_type": "markdown",
   "metadata": {},
   "source": [
    "Train Loss: 1.053598\tVal Loss: 1064.030518\tAccuracy: 0.022021"
   ]
  },
  {
   "cell_type": "code",
   "execution_count": null,
   "metadata": {},
   "outputs": [],
   "source": []
  }
 ],
 "metadata": {
  "kernelspec": {
   "display_name": "Python 3",
   "language": "python",
   "name": "python3"
  },
  "language_info": {
   "codemirror_mode": {
    "name": "ipython",
    "version": 3
   },
   "file_extension": ".py",
   "mimetype": "text/x-python",
   "name": "python",
   "nbconvert_exporter": "python",
   "pygments_lexer": "ipython3",
   "version": "3.7.4"
  }
 },
 "nbformat": 4,
 "nbformat_minor": 1
}
